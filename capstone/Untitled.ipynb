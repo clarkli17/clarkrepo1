{
 "cells": [
  {
   "cell_type": "code",
   "execution_count": 2,
   "metadata": {
    "collapsed": true
   },
   "outputs": [],
   "source": [
    "import numpy as np\n",
    "import pandas as pd\n",
    "import matplotlib.pyplot as plt\n"
   ]
  },
  {
   "cell_type": "code",
   "execution_count": 24,
   "metadata": {
    "collapsed": false
   },
   "outputs": [
    {
     "data": {
      "text/plain": [
       "listing_id       215641\n",
       "id               215641\n",
       "date             215641\n",
       "reviewer_id      215641\n",
       "reviewer_name    215640\n",
       "comments         215459\n",
       "dtype: int64"
      ]
     },
     "execution_count": 24,
     "metadata": {},
     "output_type": "execute_result"
    }
   ],
   "source": [
    "df = pd.read_csv('reviews.csv')\n",
    "df.count()"
   ]
  },
  {
   "cell_type": "code",
   "execution_count": 10,
   "metadata": {
    "collapsed": false,
    "scrolled": true
   },
   "outputs": [
    {
     "data": {
      "text/html": [
       "<div>\n",
       "<table border=\"1\" class=\"dataframe\">\n",
       "  <thead>\n",
       "    <tr style=\"text-align: right;\">\n",
       "      <th></th>\n",
       "      <th>id</th>\n",
       "      <th>date</th>\n",
       "      <th>reviewer_id</th>\n",
       "      <th>reviewer_name</th>\n",
       "      <th>comments</th>\n",
       "    </tr>\n",
       "    <tr>\n",
       "      <th>listing_id</th>\n",
       "      <th></th>\n",
       "      <th></th>\n",
       "      <th></th>\n",
       "      <th></th>\n",
       "      <th></th>\n",
       "    </tr>\n",
       "  </thead>\n",
       "  <tbody>\n",
       "    <tr>\n",
       "      <th>958</th>\n",
       "      <td>78</td>\n",
       "      <td>78</td>\n",
       "      <td>78</td>\n",
       "      <td>78</td>\n",
       "      <td>78</td>\n",
       "    </tr>\n",
       "    <tr>\n",
       "      <th>5021</th>\n",
       "      <td>4</td>\n",
       "      <td>4</td>\n",
       "      <td>4</td>\n",
       "      <td>4</td>\n",
       "      <td>4</td>\n",
       "    </tr>\n",
       "    <tr>\n",
       "      <th>5858</th>\n",
       "      <td>111</td>\n",
       "      <td>111</td>\n",
       "      <td>111</td>\n",
       "      <td>111</td>\n",
       "      <td>110</td>\n",
       "    </tr>\n",
       "    <tr>\n",
       "      <th>7918</th>\n",
       "      <td>17</td>\n",
       "      <td>17</td>\n",
       "      <td>17</td>\n",
       "      <td>17</td>\n",
       "      <td>17</td>\n",
       "    </tr>\n",
       "    <tr>\n",
       "      <th>8014</th>\n",
       "      <td>57</td>\n",
       "      <td>57</td>\n",
       "      <td>57</td>\n",
       "      <td>57</td>\n",
       "      <td>57</td>\n",
       "    </tr>\n",
       "  </tbody>\n",
       "</table>\n",
       "</div>"
      ],
      "text/plain": [
       "             id  date  reviewer_id  reviewer_name  comments\n",
       "listing_id                                                 \n",
       "958          78    78           78             78        78\n",
       "5021          4     4            4              4         4\n",
       "5858        111   111          111            111       110\n",
       "7918         17    17           17             17        17\n",
       "8014         57    57           57             57        57"
      ]
     },
     "execution_count": 10,
     "metadata": {},
     "output_type": "execute_result"
    }
   ],
   "source": [
    "cnt = df.groupby('listing_id').count()\n",
    "cnt.head()"
   ]
  },
  {
   "cell_type": "code",
   "execution_count": 15,
   "metadata": {
    "collapsed": false,
    "scrolled": true
   },
   "outputs": [
    {
     "data": {
      "text/plain": [
       "id               6744\n",
       "date             6744\n",
       "reviewer_id      6744\n",
       "reviewer_name    6744\n",
       "comments         6744\n",
       "dtype: int64"
      ]
     },
     "execution_count": 15,
     "metadata": {},
     "output_type": "execute_result"
    }
   ],
   "source": [
    "cnt.count()"
   ]
  },
  {
   "cell_type": "code",
   "execution_count": 23,
   "metadata": {
    "collapsed": false
   },
   "outputs": [
    {
     "ename": "SyntaxError",
     "evalue": "invalid syntax (<ipython-input-23-598f7a2d25cb>, line 1)",
     "output_type": "error",
     "traceback": [
      "\u001b[0;36m  File \u001b[0;32m\"<ipython-input-23-598f7a2d25cb>\"\u001b[0;36m, line \u001b[0;32m1\u001b[0m\n\u001b[0;31m    cnt[cnt['id']》50].count()\u001b[0m\n\u001b[0m                 ^\u001b[0m\n\u001b[0;31mSyntaxError\u001b[0m\u001b[0;31m:\u001b[0m invalid syntax\n"
     ]
    }
   ],
   "source": [
    "cnt[cnt['id']>50].count()"
   ]
  },
  {
   "cell_type": "code",
   "execution_count": 22,
   "metadata": {
    "collapsed": false
   },
   "outputs": [
    {
     "data": {
      "image/png": "[encoded data removed]",
      "text/plain": [
       "<matplotlib.figure.Figure at 0x11c70b590>"
      ]
     },
     "metadata": {},
     "output_type": "display_data"
    }
   ],
   "source": [
    "cnt[cnt['id']<50]['id'].hist(bins=10)\n",
    "plt.show()"
   ]
  },
  {
   "cell_type": "code",
   "execution_count": 11,
   "metadata": {
    "collapsed": false
   },
   "outputs": [
    {
     "name": "stderr",
     "output_type": "stream",
     "text": [
      "/Users/clarkli/anaconda2/lib/python2.7/site-packages/IPython/core/interactiveshell.py:2717: DtypeWarning: Columns (43) have mixed types. Specify dtype option on import or set low_memory=False.\n",
      "  interactivity=interactivity, compiler=compiler, result=result)\n"
     ]
    }
   ],
   "source": [
    "df2 = pd.read_csv('listing.csv')"
   ]
  },
  {
   "cell_type": "code",
   "execution_count": 14,
   "metadata": {
    "collapsed": false
   },
   "outputs": [
    {
     "data": {
      "text/html": [
       "<div>\n",
       "<style>\n",
       "    .dataframe thead tr:only-child th {\n",
       "        text-align: right;\n",
       "    }\n",
       "\n",
       "    .dataframe thead th {\n",
       "        text-align: left;\n",
       "    }\n",
       "\n",
       "    .dataframe tbody tr th {\n",
       "        vertical-align: top;\n",
       "    }\n",
       "</style>\n",
       "<table border=\"1\" class=\"dataframe\">\n",
       "  <thead>\n",
       "    <tr style=\"text-align: right;\">\n",
       "      <th></th>\n",
       "      <th>id</th>\n",
       "      <th>scrape_id</th>\n",
       "      <th>host_id</th>\n",
       "      <th>host_acceptance_rate</th>\n",
       "      <th>host_listings_count</th>\n",
       "      <th>host_total_listings_count</th>\n",
       "      <th>neighbourhood_group_cleansed</th>\n",
       "      <th>latitude</th>\n",
       "      <th>longitude</th>\n",
       "      <th>accommodates</th>\n",
       "      <th>...</th>\n",
       "      <th>number_of_reviews</th>\n",
       "      <th>review_scores_rating</th>\n",
       "      <th>review_scores_accuracy</th>\n",
       "      <th>review_scores_cleanliness</th>\n",
       "      <th>review_scores_checkin</th>\n",
       "      <th>review_scores_communication</th>\n",
       "      <th>review_scores_location</th>\n",
       "      <th>review_scores_value</th>\n",
       "      <th>calculated_host_listings_count</th>\n",
       "      <th>reviews_per_month</th>\n",
       "    </tr>\n",
       "  </thead>\n",
       "  <tbody>\n",
       "    <tr>\n",
       "      <th>count</th>\n",
       "      <td>8.706000e+03</td>\n",
       "      <td>8.706000e+03</td>\n",
       "      <td>8.706000e+03</td>\n",
       "      <td>0.0</td>\n",
       "      <td>8697.000000</td>\n",
       "      <td>8697.000000</td>\n",
       "      <td>0.0</td>\n",
       "      <td>8706.000000</td>\n",
       "      <td>8706.000000</td>\n",
       "      <td>8706.000000</td>\n",
       "      <td>...</td>\n",
       "      <td>8706.000000</td>\n",
       "      <td>6655.000000</td>\n",
       "      <td>6640.000000</td>\n",
       "      <td>6643.000000</td>\n",
       "      <td>6632.000000</td>\n",
       "      <td>6644.000000</td>\n",
       "      <td>6633.000000</td>\n",
       "      <td>6630.000000</td>\n",
       "      <td>8706.000000</td>\n",
       "      <td>6744.000000</td>\n",
       "    </tr>\n",
       "    <tr>\n",
       "      <th>mean</th>\n",
       "      <td>8.917276e+06</td>\n",
       "      <td>2.017040e+13</td>\n",
       "      <td>2.331190e+07</td>\n",
       "      <td>NaN</td>\n",
       "      <td>6.083017</td>\n",
       "      <td>6.083017</td>\n",
       "      <td>NaN</td>\n",
       "      <td>37.767743</td>\n",
       "      <td>-122.430262</td>\n",
       "      <td>3.164714</td>\n",
       "      <td>...</td>\n",
       "      <td>24.852975</td>\n",
       "      <td>94.528625</td>\n",
       "      <td>9.651958</td>\n",
       "      <td>9.486377</td>\n",
       "      <td>9.803227</td>\n",
       "      <td>9.799368</td>\n",
       "      <td>9.561737</td>\n",
       "      <td>9.374962</td>\n",
       "      <td>2.724098</td>\n",
       "      <td>1.668198</td>\n",
       "    </tr>\n",
       "    <tr>\n",
       "      <th>std</th>\n",
       "      <td>5.415034e+06</td>\n",
       "      <td>5.469064e-02</td>\n",
       "      <td>2.823303e+07</td>\n",
       "      <td>NaN</td>\n",
       "      <td>36.600981</td>\n",
       "      <td>36.600981</td>\n",
       "      <td>NaN</td>\n",
       "      <td>0.021930</td>\n",
       "      <td>0.025466</td>\n",
       "      <td>1.998558</td>\n",
       "      <td>...</td>\n",
       "      <td>45.184393</td>\n",
       "      <td>7.560817</td>\n",
       "      <td>0.767101</td>\n",
       "      <td>0.908616</td>\n",
       "      <td>0.586405</td>\n",
       "      <td>0.598251</td>\n",
       "      <td>0.777876</td>\n",
       "      <td>0.841652</td>\n",
       "      <td>7.121279</td>\n",
       "      <td>3.233035</td>\n",
       "    </tr>\n",
       "    <tr>\n",
       "      <th>min</th>\n",
       "      <td>9.580000e+02</td>\n",
       "      <td>2.017040e+13</td>\n",
       "      <td>4.600000e+01</td>\n",
       "      <td>NaN</td>\n",
       "      <td>0.000000</td>\n",
       "      <td>0.000000</td>\n",
       "      <td>NaN</td>\n",
       "      <td>37.706928</td>\n",
       "      <td>-122.511500</td>\n",
       "      <td>1.000000</td>\n",
       "      <td>...</td>\n",
       "      <td>0.000000</td>\n",
       "      <td>20.000000</td>\n",
       "      <td>2.000000</td>\n",
       "      <td>2.000000</td>\n",
       "      <td>2.000000</td>\n",
       "      <td>2.000000</td>\n",
       "      <td>2.000000</td>\n",
       "      <td>2.000000</td>\n",
       "      <td>1.000000</td>\n",
       "      <td>0.010000</td>\n",
       "    </tr>\n",
       "    <tr>\n",
       "      <th>25%</th>\n",
       "      <td>4.123524e+06</td>\n",
       "      <td>2.017040e+13</td>\n",
       "      <td>3.246281e+06</td>\n",
       "      <td>NaN</td>\n",
       "      <td>1.000000</td>\n",
       "      <td>1.000000</td>\n",
       "      <td>NaN</td>\n",
       "      <td>37.753321</td>\n",
       "      <td>-122.442043</td>\n",
       "      <td>2.000000</td>\n",
       "      <td>...</td>\n",
       "      <td>1.000000</td>\n",
       "      <td>93.000000</td>\n",
       "      <td>9.000000</td>\n",
       "      <td>9.000000</td>\n",
       "      <td>10.000000</td>\n",
       "      <td>10.000000</td>\n",
       "      <td>9.000000</td>\n",
       "      <td>9.000000</td>\n",
       "      <td>1.000000</td>\n",
       "      <td>0.310000</td>\n",
       "    </tr>\n",
       "    <tr>\n",
       "      <th>50%</th>\n",
       "      <td>9.156648e+06</td>\n",
       "      <td>2.017040e+13</td>\n",
       "      <td>1.082904e+07</td>\n",
       "      <td>NaN</td>\n",
       "      <td>1.000000</td>\n",
       "      <td>1.000000</td>\n",
       "      <td>NaN</td>\n",
       "      <td>37.769819</td>\n",
       "      <td>-122.425420</td>\n",
       "      <td>2.000000</td>\n",
       "      <td>...</td>\n",
       "      <td>6.000000</td>\n",
       "      <td>97.000000</td>\n",
       "      <td>10.000000</td>\n",
       "      <td>10.000000</td>\n",
       "      <td>10.000000</td>\n",
       "      <td>10.000000</td>\n",
       "      <td>10.000000</td>\n",
       "      <td>10.000000</td>\n",
       "      <td>1.000000</td>\n",
       "      <td>0.980000</td>\n",
       "    </tr>\n",
       "    <tr>\n",
       "      <th>75%</th>\n",
       "      <td>1.368716e+07</td>\n",
       "      <td>2.017040e+13</td>\n",
       "      <td>3.429182e+07</td>\n",
       "      <td>NaN</td>\n",
       "      <td>2.000000</td>\n",
       "      <td>2.000000</td>\n",
       "      <td>NaN</td>\n",
       "      <td>37.785527</td>\n",
       "      <td>-122.412451</td>\n",
       "      <td>4.000000</td>\n",
       "      <td>...</td>\n",
       "      <td>27.000000</td>\n",
       "      <td>100.000000</td>\n",
       "      <td>10.000000</td>\n",
       "      <td>10.000000</td>\n",
       "      <td>10.000000</td>\n",
       "      <td>10.000000</td>\n",
       "      <td>10.000000</td>\n",
       "      <td>10.000000</td>\n",
       "      <td>2.000000</td>\n",
       "      <td>2.420000</td>\n",
       "    </tr>\n",
       "    <tr>\n",
       "      <th>max</th>\n",
       "      <td>1.800883e+07</td>\n",
       "      <td>2.017040e+13</td>\n",
       "      <td>1.233930e+08</td>\n",
       "      <td>NaN</td>\n",
       "      <td>1114.000000</td>\n",
       "      <td>1114.000000</td>\n",
       "      <td>NaN</td>\n",
       "      <td>37.831093</td>\n",
       "      <td>-122.364759</td>\n",
       "      <td>16.000000</td>\n",
       "      <td>...</td>\n",
       "      <td>488.000000</td>\n",
       "      <td>100.000000</td>\n",
       "      <td>10.000000</td>\n",
       "      <td>10.000000</td>\n",
       "      <td>10.000000</td>\n",
       "      <td>10.000000</td>\n",
       "      <td>10.000000</td>\n",
       "      <td>10.000000</td>\n",
       "      <td>69.000000</td>\n",
       "      <td>223.000000</td>\n",
       "    </tr>\n",
       "  </tbody>\n",
       "</table>\n",
       "<p>8 rows × 32 columns</p>\n",
       "</div>"
      ],
      "text/plain": [
       "                 id     scrape_id       host_id  host_acceptance_rate  \\\n",
       "count  8.706000e+03  8.706000e+03  8.706000e+03                   0.0   \n",
       "mean   8.917276e+06  2.017040e+13  2.331190e+07                   NaN   \n",
       "std    5.415034e+06  5.469064e-02  2.823303e+07                   NaN   \n",
       "min    9.580000e+02  2.017040e+13  4.600000e+01                   NaN   \n",
       "25%    4.123524e+06  2.017040e+13  3.246281e+06                   NaN   \n",
       "50%    9.156648e+06  2.017040e+13  1.082904e+07                   NaN   \n",
       "75%    1.368716e+07  2.017040e+13  3.429182e+07                   NaN   \n",
       "max    1.800883e+07  2.017040e+13  1.233930e+08                   NaN   \n",
       "\n",
       "       host_listings_count  host_total_listings_count  \\\n",
       "count          8697.000000                8697.000000   \n",
       "mean              6.083017                   6.083017   \n",
       "std              36.600981                  36.600981   \n",
       "min               0.000000                   0.000000   \n",
       "25%               1.000000                   1.000000   \n",
       "50%               1.000000                   1.000000   \n",
       "75%               2.000000                   2.000000   \n",
       "max            1114.000000                1114.000000   \n",
       "\n",
       "       neighbourhood_group_cleansed     latitude    longitude  accommodates  \\\n",
       "count                           0.0  8706.000000  8706.000000   8706.000000   \n",
       "mean                            NaN    37.767743  -122.430262      3.164714   \n",
       "std                             NaN     0.021930     0.025466      1.998558   \n",
       "min                             NaN    37.706928  -122.511500      1.000000   \n",
       "25%                             NaN    37.753321  -122.442043      2.000000   \n",
       "50%                             NaN    37.769819  -122.425420      2.000000   \n",
       "75%                             NaN    37.785527  -122.412451      4.000000   \n",
       "max                             NaN    37.831093  -122.364759     16.000000   \n",
       "\n",
       "             ...          number_of_reviews  review_scores_rating  \\\n",
       "count        ...                8706.000000           6655.000000   \n",
       "mean         ...                  24.852975             94.528625   \n",
       "std          ...                  45.184393              7.560817   \n",
       "min          ...                   0.000000             20.000000   \n",
       "25%          ...                   1.000000             93.000000   \n",
       "50%          ...                   6.000000             97.000000   \n",
       "75%          ...                  27.000000            100.000000   \n",
       "max          ...                 488.000000            100.000000   \n",
       "\n",
       "       review_scores_accuracy  review_scores_cleanliness  \\\n",
       "count             6640.000000                6643.000000   \n",
       "mean                 9.651958                   9.486377   \n",
       "std                  0.767101                   0.908616   \n",
       "min                  2.000000                   2.000000   \n",
       "25%                  9.000000                   9.000000   \n",
       "50%                 10.000000                  10.000000   \n",
       "75%                 10.000000                  10.000000   \n",
       "max                 10.000000                  10.000000   \n",
       "\n",
       "       review_scores_checkin  review_scores_communication  \\\n",
       "count            6632.000000                  6644.000000   \n",
       "mean                9.803227                     9.799368   \n",
       "std                 0.586405                     0.598251   \n",
       "min                 2.000000                     2.000000   \n",
       "25%                10.000000                    10.000000   \n",
       "50%                10.000000                    10.000000   \n",
       "75%                10.000000                    10.000000   \n",
       "max                10.000000                    10.000000   \n",
       "\n",
       "       review_scores_location  review_scores_value  \\\n",
       "count             6633.000000          6630.000000   \n",
       "mean                 9.561737             9.374962   \n",
       "std                  0.777876             0.841652   \n",
       "min                  2.000000             2.000000   \n",
       "25%                  9.000000             9.000000   \n",
       "50%                 10.000000            10.000000   \n",
       "75%                 10.000000            10.000000   \n",
       "max                 10.000000            10.000000   \n",
       "\n",
       "       calculated_host_listings_count  reviews_per_month  \n",
       "count                     8706.000000        6744.000000  \n",
       "mean                         2.724098           1.668198  \n",
       "std                          7.121279           3.233035  \n",
       "min                          1.000000           0.010000  \n",
       "25%                          1.000000           0.310000  \n",
       "50%                          1.000000           0.980000  \n",
       "75%                          2.000000           2.420000  \n",
       "max                         69.000000         223.000000  \n",
       "\n",
       "[8 rows x 32 columns]"
      ]
     },
     "execution_count": 14,
     "metadata": {},
     "output_type": "execute_result"
    }
   ],
   "source": [
    "df2.describe()"
   ]
  },
  {
   "cell_type": "code",
   "execution_count": 18,
   "metadata": {
    "collapsed": false
   },
   "outputs": [
    {
     "data": {
      "text/plain": [
       "(8706,)"
      ]
     },
     "execution_count": 18,
     "metadata": {},
     "output_type": "execute_result"
    }
   ],
   "source": [
    "df2.id.unique().shape"
   ]
  },
  {
   "cell_type": "code",
   "execution_count": null,
   "metadata": {
    "collapsed": true
   },
   "outputs": [],
   "source": []
  }
 ],
 "metadata": {
  "kernelspec": {
   "display_name": "Python 2",
   "language": "python",
   "name": "python2"
  },
  "language_info": {
   "codemirror_mode": {
    "name": "ipython",
    "version": 2
   },
   "file_extension": ".py",
   "mimetype": "text/x-python",
   "name": "python",
   "nbconvert_exporter": "python",
   "pygments_lexer": "ipython2",
   "version": "2.7.13"
  }
 },
 "nbformat": 4,
 "nbformat_minor": 2
}
